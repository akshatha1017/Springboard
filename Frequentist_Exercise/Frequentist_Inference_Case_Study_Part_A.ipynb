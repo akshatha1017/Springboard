{
  "cells": [
    {
      "cell_type": "markdown",
      "metadata": {
        "id": "ZqiQfCMvb_8P"
      },
      "source": [
        "# Frequentist Inference Case Study - Part A"
      ]
    },
    {
      "cell_type": "markdown",
      "metadata": {
        "id": "dFzH0U_7b_8T"
      },
      "source": [
        "## 1. Learning objectives"
      ]
    },
    {
      "cell_type": "markdown",
      "metadata": {
        "id": "6w7zbYe4b_8T"
      },
      "source": [
        "Welcome to part A of the Frequentist inference case study! The purpose of this case study is to help you apply the concepts associated with Frequentist inference in Python. Frequentist inference is the process of deriving conclusions about an underlying distribution via the observation of data. In particular, you'll practice writing Python code to apply the following statistical concepts:\n",
        "* the _z_-statistic\n",
        "* the _t_-statistic\n",
        "* the difference and relationship between the two\n",
        "* the Central Limit Theorem, including its assumptions and consequences\n",
        "* how to estimate the population mean and standard deviation from a sample\n",
        "* the concept of a sampling distribution of a test statistic, particularly for the mean\n",
        "* how to combine these concepts to calculate a confidence interval"
      ]
    },
    {
      "cell_type": "markdown",
      "metadata": {
        "id": "YUiT4ejxb_8U"
      },
      "source": [
        "## Prerequisites"
      ]
    },
    {
      "cell_type": "markdown",
      "metadata": {
        "id": "eW4-_YzTb_8U"
      },
      "source": [
        "To be able to complete this notebook, you are expected to have a basic understanding of:\n",
        "* what a random variable is (p.400 of Professor Spiegelhalter's *The Art of Statistics, hereinafter AoS*)\n",
        "* what a population, and a population distribution, are (p. 397 of *AoS*)\n",
        "* a high-level sense of what the normal distribution is (p. 394 of *AoS*)\n",
        "* what the t-statistic is (p. 275 of *AoS*)\n",
        "\n",
        "Happily, these should all be concepts with which you are reasonably familiar after having read ten chapters of Professor Spiegelhalter's book, *The Art of Statistics*.\n",
        "\n",
        "We'll try to relate the concepts in this case study back to page numbers in *The Art of Statistics* so that you can focus on the Python aspects of this case study. The second part (part B) of this case study will involve another, more real-world application of these tools."
      ]
    },
    {
      "cell_type": "markdown",
      "metadata": {
        "id": "LA2njjM-b_8U"
      },
      "source": [
        "For this notebook, we will use data sampled from a known normal distribution. This allows us to compare our results with theoretical expectations."
      ]
    },
    {
      "cell_type": "markdown",
      "metadata": {
        "id": "8IyqMD--b_8U"
      },
      "source": [
        "## 2. An introduction to sampling from the normal distribution"
      ]
    },
    {
      "cell_type": "markdown",
      "metadata": {
        "id": "ejrS9g2Wb_8V"
      },
      "source": [
        "First, let's explore the ways we can generate the normal distribution. While there's a fair amount of interest in [sklearn](https://scikit-learn.org/stable/) within the machine learning community, you're likely to have heard of [scipy](https://docs.scipy.org/doc/scipy-0.15.1/reference/index.html) if you're coming from the sciences. For this assignment, you'll use [scipy.stats](https://docs.scipy.org/doc/scipy-0.15.1/reference/tutorial/stats.html) to complete your work.\n",
        "\n",
        "This assignment will require some digging around and getting your hands dirty (your learning is maximized that way)! You should have the research skills and the tenacity to do these tasks independently, but if you struggle, reach out to your immediate community and your mentor for help."
      ]
    },
    {
      "cell_type": "code",
      "execution_count": 2,
      "metadata": {
        "id": "H_OOt9Dtb_8V"
      },
      "outputs": [],
      "source": [
        "from scipy.stats import norm\n",
        "from scipy.stats import t\n",
        "import numpy as np\n",
        "import pandas as pd\n",
        "from numpy.random import seed\n",
        "import matplotlib.pyplot as plt"
      ]
    },
    {
      "cell_type": "markdown",
      "metadata": {
        "id": "4GUdFixNb_8W"
      },
      "source": [
        "__Q1:__ Call up the documentation for the `norm` function imported above. (Hint: that documentation is [here](https://docs.scipy.org/doc/scipy/reference/generated/scipy.stats.norm.html)). What is the second listed method?"
      ]
    },
    {
      "cell_type": "code",
      "execution_count": 3,
      "metadata": {
        "colab": {
          "base_uri": "https://localhost:8080/"
        },
        "id": "F9RZc1d2b_8W",
        "outputId": "04e0d910-1d1e-42e4-fca1-38c50eed145b"
      },
      "outputs": [
        {
          "output_type": "stream",
          "name": "stdout",
          "text": [
            "Help on norm_gen in module scipy.stats._continuous_distns:\n",
            "\n",
            "<scipy.stats._continuous_distns.norm_gen object>\n",
            "    A normal continuous random variable.\n",
            "    \n",
            "    The location (``loc``) keyword specifies the mean.\n",
            "    The scale (``scale``) keyword specifies the standard deviation.\n",
            "    \n",
            "    As an instance of the `rv_continuous` class, `norm` object inherits from it\n",
            "    a collection of generic methods (see below for the full list),\n",
            "    and completes them with details specific for this particular distribution.\n",
            "    \n",
            "    Methods\n",
            "    -------\n",
            "    rvs(loc=0, scale=1, size=1, random_state=None)\n",
            "        Random variates.\n",
            "    pdf(x, loc=0, scale=1)\n",
            "        Probability density function.\n",
            "    logpdf(x, loc=0, scale=1)\n",
            "        Log of the probability density function.\n",
            "    cdf(x, loc=0, scale=1)\n",
            "        Cumulative distribution function.\n",
            "    logcdf(x, loc=0, scale=1)\n",
            "        Log of the cumulative distribution function.\n",
            "    sf(x, loc=0, scale=1)\n",
            "        Survival function  (also defined as ``1 - cdf``, but `sf` is sometimes more accurate).\n",
            "    logsf(x, loc=0, scale=1)\n",
            "        Log of the survival function.\n",
            "    ppf(q, loc=0, scale=1)\n",
            "        Percent point function (inverse of ``cdf`` --- percentiles).\n",
            "    isf(q, loc=0, scale=1)\n",
            "        Inverse survival function (inverse of ``sf``).\n",
            "    moment(order, loc=0, scale=1)\n",
            "        Non-central moment of the specified order.\n",
            "    stats(loc=0, scale=1, moments='mv')\n",
            "        Mean('m'), variance('v'), skew('s'), and/or kurtosis('k').\n",
            "    entropy(loc=0, scale=1)\n",
            "        (Differential) entropy of the RV.\n",
            "    fit(data)\n",
            "        Parameter estimates for generic data.\n",
            "        See `scipy.stats.rv_continuous.fit <https://docs.scipy.org/doc/scipy/reference/generated/scipy.stats.rv_continuous.fit.html#scipy.stats.rv_continuous.fit>`__ for detailed documentation of the\n",
            "        keyword arguments.\n",
            "    expect(func, args=(), loc=0, scale=1, lb=None, ub=None, conditional=False, **kwds)\n",
            "        Expected value of a function (of one argument) with respect to the distribution.\n",
            "    median(loc=0, scale=1)\n",
            "        Median of the distribution.\n",
            "    mean(loc=0, scale=1)\n",
            "        Mean of the distribution.\n",
            "    var(loc=0, scale=1)\n",
            "        Variance of the distribution.\n",
            "    std(loc=0, scale=1)\n",
            "        Standard deviation of the distribution.\n",
            "    interval(confidence, loc=0, scale=1)\n",
            "        Confidence interval with equal areas around the median.\n",
            "    \n",
            "    Notes\n",
            "    -----\n",
            "    The probability density function for `norm` is:\n",
            "    \n",
            "    .. math::\n",
            "    \n",
            "        f(x) = \\frac{\\exp(-x^2/2)}{\\sqrt{2\\pi}}\n",
            "    \n",
            "    for a real number :math:`x`.\n",
            "    \n",
            "    The probability density above is defined in the \"standardized\" form. To shift\n",
            "    and/or scale the distribution use the ``loc`` and ``scale`` parameters.\n",
            "    Specifically, ``norm.pdf(x, loc, scale)`` is identically\n",
            "    equivalent to ``norm.pdf(y) / scale`` with\n",
            "    ``y = (x - loc) / scale``. Note that shifting the location of a distribution\n",
            "    does not make it a \"noncentral\" distribution; noncentral generalizations of\n",
            "    some distributions are available in separate classes.\n",
            "    \n",
            "    Examples\n",
            "    --------\n",
            "    >>> import numpy as np\n",
            "    >>> from scipy.stats import norm\n",
            "    >>> import matplotlib.pyplot as plt\n",
            "    >>> fig, ax = plt.subplots(1, 1)\n",
            "    \n",
            "    Calculate the first four moments:\n",
            "    \n",
            "    \n",
            "    >>> mean, var, skew, kurt = norm.stats(moments='mvsk')\n",
            "    \n",
            "    Display the probability density function (``pdf``):\n",
            "    \n",
            "    >>> x = np.linspace(norm.ppf(0.01),\n",
            "    ...                 norm.ppf(0.99), 100)\n",
            "    >>> ax.plot(x, norm.pdf(x),\n",
            "    ...        'r-', lw=5, alpha=0.6, label='norm pdf')\n",
            "    \n",
            "    Alternatively, the distribution object can be called (as a function)\n",
            "    to fix the shape, location and scale parameters. This returns a \"frozen\"\n",
            "    RV object holding the given parameters fixed.\n",
            "    \n",
            "    Freeze the distribution and display the frozen ``pdf``:\n",
            "    \n",
            "    >>> rv = norm()\n",
            "    >>> ax.plot(x, rv.pdf(x), 'k-', lw=2, label='frozen pdf')\n",
            "    \n",
            "    Check accuracy of ``cdf`` and ``ppf``:\n",
            "    \n",
            "    >>> vals = norm.ppf([0.001, 0.5, 0.999])\n",
            "    >>> np.allclose([0.001, 0.5, 0.999], norm.cdf(vals))\n",
            "    True\n",
            "    \n",
            "    Generate random numbers:\n",
            "    \n",
            "    >>> r = norm.rvs(size=1000)\n",
            "    \n",
            "    And compare the histogram:\n",
            "    \n",
            "    >>> ax.hist(r, density=True, bins='auto', histtype='stepfilled', alpha=0.2)\n",
            "    >>> ax.set_xlim([x[0], x[-1]])\n",
            "    >>> ax.legend(loc='best', frameon=False)\n",
            "    >>> plt.show()\n",
            "\n"
          ]
        }
      ],
      "source": [
        "help(norm)"
      ]
    },
    {
      "cell_type": "markdown",
      "metadata": {
        "id": "1x9m3KMcb_8W"
      },
      "source": [
        "__A:__. norm"
      ]
    },
    {
      "cell_type": "markdown",
      "metadata": {
        "id": "_eB2aj9Ub_8X"
      },
      "source": [
        "__Q2:__ Use the method that generates random variates to draw five samples from the standard normal distribution."
      ]
    },
    {
      "cell_type": "markdown",
      "metadata": {
        "id": "TKUvTpYxb_8X"
      },
      "source": [
        "__A:__  np.random.normal"
      ]
    },
    {
      "cell_type": "code",
      "execution_count": 4,
      "metadata": {
        "colab": {
          "base_uri": "https://localhost:8080/"
        },
        "id": "17dTBDRMb_8X",
        "outputId": "da3adcb2-32f2-4874-bbc9-9a34243ffca5"
      },
      "outputs": [
        {
          "output_type": "execute_result",
          "data": {
            "text/plain": [
              "array([-0.84800948,  1.30590636,  0.92420797,  0.6404118 , -1.05473698])"
            ]
          },
          "metadata": {},
          "execution_count": 4
        }
      ],
      "source": [
        "seed(47)\n",
        "# draw five samples here\n",
        "x = norm.rvs(size = 5)\n",
        "x"
      ]
    },
    {
      "cell_type": "markdown",
      "metadata": {
        "id": "nGk7DJuXb_8X"
      },
      "source": [
        "__Q3:__ What is the mean of this sample? Is it exactly equal to the value you expected? Hint: the sample was drawn from the standard normal distribution. If you want a reminder of the properties of this distribution, check out p. 85 of *AoS*."
      ]
    },
    {
      "cell_type": "markdown",
      "metadata": {
        "id": "59x2vKhob_8X"
      },
      "source": [
        "__A:__ 0.1935 is the mean of this sample. And no, it is not exactly equal to the value I expected."
      ]
    },
    {
      "cell_type": "code",
      "execution_count": 5,
      "metadata": {
        "colab": {
          "base_uri": "https://localhost:8080/"
        },
        "id": "k0EfIiX0b_8X",
        "outputId": "349ab06f-392f-4501-df03-3ce817108a64"
      },
      "outputs": [
        {
          "output_type": "execute_result",
          "data": {
            "text/plain": [
              "0.19355593334131074"
            ]
          },
          "metadata": {},
          "execution_count": 5
        }
      ],
      "source": [
        "# Calculate and print the mean here, hint: use np.mean()\n",
        "np.mean(x)"
      ]
    },
    {
      "cell_type": "markdown",
      "metadata": {
        "id": "VjV8Nagjb_8X"
      },
      "source": [
        "__Q4:__ What is the standard deviation of these numbers? Calculate this manually here as $\\sqrt{\\frac{\\sum_i(x_i - \\bar{x})^2}{n}}$ (This is just the definition of **standard deviation** given by Professor Spiegelhalter on p.403 of *AoS*). Hint: np.sqrt() and np.sum() will be useful here and remember that numPy supports [broadcasting](https://docs.scipy.org/doc/numpy/user/basics.broadcasting.html)."
      ]
    },
    {
      "cell_type": "markdown",
      "metadata": {
        "id": "s0RDk3Vcb_8X"
      },
      "source": [
        "__A:__The std of these numbers is 0.9606195639478641"
      ]
    },
    {
      "cell_type": "code",
      "execution_count": 6,
      "metadata": {
        "colab": {
          "base_uri": "https://localhost:8080/"
        },
        "id": "wyomGzEdb_8X",
        "outputId": "e189dfb0-f57f-404d-d1b9-6d6a11b64eaf"
      },
      "outputs": [
        {
          "output_type": "execute_result",
          "data": {
            "text/plain": [
              "0.9606195639478641"
            ]
          },
          "metadata": {},
          "execution_count": 6
        }
      ],
      "source": [
        "std = np.sqrt(np.sum((np.mean(x) - x)**2)/len(x))\n",
        "std"
      ]
    },
    {
      "cell_type": "markdown",
      "metadata": {
        "id": "4RGVWE2Jb_8X"
      },
      "source": [
        "Here we have calculated the actual standard deviation of a small data set (of size 5). But in this case, this small data set is actually a sample from our larger (infinite) population. In this case, the population is infinite because we could keep drawing our normal random variates until our computers die!\n",
        "\n",
        "In general, the sample mean we calculate will not be equal to the population mean (as we saw above). A consequence of this is that the sum of squares of the deviations from the _population_ mean will be bigger than the sum of squares of the deviations from the _sample_ mean. In other words, the sum of squares of the deviations from the _sample_ mean is too small to give an unbiased estimate of the _population_ variance. An example of this effect is given [here](https://en.wikipedia.org/wiki/Bessel%27s_correction#Source_of_bias). Scaling our estimate of the variance by the factor $n/(n-1)$ gives an unbiased estimator of the population variance. This factor is known as [Bessel's correction](https://en.wikipedia.org/wiki/Bessel%27s_correction). The consequence of this is that the $n$ in the denominator is replaced by $n-1$.\n",
        "\n",
        "You can see Bessel's correction reflected in Professor Spiegelhalter's definition of **variance** on p. 405 of *AoS*.\n",
        "\n",
        "__Q5:__ If all we had to go on was our five samples, what would be our best estimate of the population standard deviation? Use Bessel's correction ($n-1$ in the denominator), thus $\\sqrt{\\frac{\\sum_i(x_i - \\bar{x})^2}{n-1}}$."
      ]
    },
    {
      "cell_type": "markdown",
      "metadata": {
        "id": "H8S_F8bzb_8X"
      },
      "source": [
        "__A:__"
      ]
    },
    {
      "cell_type": "code",
      "execution_count": 7,
      "metadata": {
        "colab": {
          "base_uri": "https://localhost:8080/"
        },
        "id": "pTXeUSt_b_8Y",
        "outputId": "1059c279-e1ca-46b7-c5e7-5699defcd748"
      },
      "outputs": [
        {
          "output_type": "execute_result",
          "data": {
            "text/plain": [
              "1.0740053227518152"
            ]
          },
          "metadata": {},
          "execution_count": 7
        }
      ],
      "source": [
        "np.sqrt(np.sum((np.mean(x) - x)**2)/(len(x)-1))"
      ]
    },
    {
      "cell_type": "markdown",
      "metadata": {
        "id": "RP6mSsApb_8Y"
      },
      "source": [
        "__Q6:__ Now use numpy's std function to calculate the standard deviation of our random samples. Which of the above standard deviations did it return?"
      ]
    },
    {
      "cell_type": "markdown",
      "metadata": {
        "id": "vFCSFQSDb_8Y"
      },
      "source": [
        "__A:__"
      ]
    },
    {
      "cell_type": "code",
      "execution_count": 8,
      "metadata": {
        "colab": {
          "base_uri": "https://localhost:8080/"
        },
        "id": "FNMU7QCdb_8Y",
        "outputId": "27e0d3c7-52ae-43e5-85de-25788272fd33"
      },
      "outputs": [
        {
          "output_type": "execute_result",
          "data": {
            "text/plain": [
              "0.9606195639478641"
            ]
          },
          "metadata": {},
          "execution_count": 8
        }
      ],
      "source": [
        "np.std(x)"
      ]
    },
    {
      "cell_type": "markdown",
      "metadata": {
        "id": "LwqmDjfTb_8Y"
      },
      "source": [
        "__Q7:__ Consult the documentation for np.std() to see how to apply the correction for estimating the population parameter and verify this produces the expected result."
      ]
    },
    {
      "cell_type": "markdown",
      "metadata": {
        "id": "N01T6qq3b_8Y"
      },
      "source": [
        "__A:__"
      ]
    },
    {
      "cell_type": "code",
      "execution_count": 9,
      "metadata": {
        "colab": {
          "base_uri": "https://localhost:8080/"
        },
        "id": "3RCLPiU1b_8Y",
        "outputId": "527adf5e-d4bd-4659-c3f1-993f1197bc4f"
      },
      "outputs": [
        {
          "output_type": "stream",
          "name": "stdout",
          "text": [
            "Help on _ArrayFunctionDispatcher in module numpy:\n",
            "\n",
            "std(a, axis=None, dtype=None, out=None, ddof=0, keepdims=<no value>, *, where=<no value>)\n",
            "    Compute the standard deviation along the specified axis.\n",
            "    \n",
            "    Returns the standard deviation, a measure of the spread of a distribution,\n",
            "    of the array elements. The standard deviation is computed for the\n",
            "    flattened array by default, otherwise over the specified axis.\n",
            "    \n",
            "    Parameters\n",
            "    ----------\n",
            "    a : array_like\n",
            "        Calculate the standard deviation of these values.\n",
            "    axis : None or int or tuple of ints, optional\n",
            "        Axis or axes along which the standard deviation is computed. The\n",
            "        default is to compute the standard deviation of the flattened array.\n",
            "    \n",
            "        .. versionadded:: 1.7.0\n",
            "    \n",
            "        If this is a tuple of ints, a standard deviation is performed over\n",
            "        multiple axes, instead of a single axis or all the axes as before.\n",
            "    dtype : dtype, optional\n",
            "        Type to use in computing the standard deviation. For arrays of\n",
            "        integer type the default is float64, for arrays of float types it is\n",
            "        the same as the array type.\n",
            "    out : ndarray, optional\n",
            "        Alternative output array in which to place the result. It must have\n",
            "        the same shape as the expected output but the type (of the calculated\n",
            "        values) will be cast if necessary.\n",
            "    ddof : int, optional\n",
            "        Means Delta Degrees of Freedom.  The divisor used in calculations\n",
            "        is ``N - ddof``, where ``N`` represents the number of elements.\n",
            "        By default `ddof` is zero.\n",
            "    keepdims : bool, optional\n",
            "        If this is set to True, the axes which are reduced are left\n",
            "        in the result as dimensions with size one. With this option,\n",
            "        the result will broadcast correctly against the input array.\n",
            "    \n",
            "        If the default value is passed, then `keepdims` will not be\n",
            "        passed through to the `std` method of sub-classes of\n",
            "        `ndarray`, however any non-default value will be.  If the\n",
            "        sub-class' method does not implement `keepdims` any\n",
            "        exceptions will be raised.\n",
            "    \n",
            "    where : array_like of bool, optional\n",
            "        Elements to include in the standard deviation.\n",
            "        See `~numpy.ufunc.reduce` for details.\n",
            "    \n",
            "        .. versionadded:: 1.20.0\n",
            "    \n",
            "    Returns\n",
            "    -------\n",
            "    standard_deviation : ndarray, see dtype parameter above.\n",
            "        If `out` is None, return a new array containing the standard deviation,\n",
            "        otherwise return a reference to the output array.\n",
            "    \n",
            "    See Also\n",
            "    --------\n",
            "    var, mean, nanmean, nanstd, nanvar\n",
            "    :ref:`ufuncs-output-type`\n",
            "    \n",
            "    Notes\n",
            "    -----\n",
            "    The standard deviation is the square root of the average of the squared\n",
            "    deviations from the mean, i.e., ``std = sqrt(mean(x))``, where\n",
            "    ``x = abs(a - a.mean())**2``.\n",
            "    \n",
            "    The average squared deviation is typically calculated as ``x.sum() / N``,\n",
            "    where ``N = len(x)``. If, however, `ddof` is specified, the divisor\n",
            "    ``N - ddof`` is used instead. In standard statistical practice, ``ddof=1``\n",
            "    provides an unbiased estimator of the variance of the infinite population.\n",
            "    ``ddof=0`` provides a maximum likelihood estimate of the variance for\n",
            "    normally distributed variables. The standard deviation computed in this\n",
            "    function is the square root of the estimated variance, so even with\n",
            "    ``ddof=1``, it will not be an unbiased estimate of the standard deviation\n",
            "    per se.\n",
            "    \n",
            "    Note that, for complex numbers, `std` takes the absolute\n",
            "    value before squaring, so that the result is always real and nonnegative.\n",
            "    \n",
            "    For floating-point input, the *std* is computed using the same\n",
            "    precision the input has. Depending on the input data, this can cause\n",
            "    the results to be inaccurate, especially for float32 (see example below).\n",
            "    Specifying a higher-accuracy accumulator using the `dtype` keyword can\n",
            "    alleviate this issue.\n",
            "    \n",
            "    Examples\n",
            "    --------\n",
            "    >>> a = np.array([[1, 2], [3, 4]])\n",
            "    >>> np.std(a)\n",
            "    1.1180339887498949 # may vary\n",
            "    >>> np.std(a, axis=0)\n",
            "    array([1.,  1.])\n",
            "    >>> np.std(a, axis=1)\n",
            "    array([0.5,  0.5])\n",
            "    \n",
            "    In single precision, std() can be inaccurate:\n",
            "    \n",
            "    >>> a = np.zeros((2, 512*512), dtype=np.float32)\n",
            "    >>> a[0, :] = 1.0\n",
            "    >>> a[1, :] = 0.1\n",
            "    >>> np.std(a)\n",
            "    0.45000005\n",
            "    \n",
            "    Computing the standard deviation in float64 is more accurate:\n",
            "    \n",
            "    >>> np.std(a, dtype=np.float64)\n",
            "    0.44999999925494177 # may vary\n",
            "    \n",
            "    Specifying a where argument:\n",
            "    \n",
            "    >>> a = np.array([[14, 8, 11, 10], [7, 9, 10, 11], [10, 15, 5, 10]])\n",
            "    >>> np.std(a)\n",
            "    2.614064523559687 # may vary\n",
            "    >>> np.std(a, where=[[True], [True], [False]])\n",
            "    2.0\n",
            "\n"
          ]
        }
      ],
      "source": [
        "help(np.std)"
      ]
    },
    {
      "cell_type": "code",
      "execution_count": 10,
      "metadata": {
        "colab": {
          "base_uri": "https://localhost:8080/"
        },
        "id": "oR9gJRyGb_8Y",
        "outputId": "33484cfa-d857-4d4f-980c-d84b1ef6b005"
      },
      "outputs": [
        {
          "output_type": "execute_result",
          "data": {
            "text/plain": [
              "1.0740053227518152"
            ]
          },
          "metadata": {},
          "execution_count": 10
        }
      ],
      "source": [
        "np.std(x, ddof=1)"
      ]
    },
    {
      "cell_type": "markdown",
      "metadata": {
        "id": "6wPJJxi_b_8Y"
      },
      "source": [
        "### Summary of section"
      ]
    },
    {
      "cell_type": "markdown",
      "metadata": {
        "id": "HJYSg_3Nb_8Y"
      },
      "source": [
        "In this section, you've been introduced to the scipy.stats package and used it to draw a small sample from the standard normal distribution. You've calculated the average (the mean) of this sample and seen that this is not exactly equal to the expected population parameter (which we know because we're generating the random variates from a specific, known distribution). You've been introduced to two ways of calculating the standard deviation; one uses $n$ in the denominator and the other uses $n-1$ (Bessel's correction). You've also seen which of these calculations np.std() performs by default and how to get it to generate the other."
      ]
    },
    {
      "cell_type": "markdown",
      "metadata": {
        "id": "s6NgQRScb_8Y"
      },
      "source": [
        "You use $n$ as the denominator if you want to calculate the standard deviation of a sequence of numbers. You use $n-1$ if you are using this sequence of numbers to estimate the population parameter. This brings us to some terminology that can be a little confusing.\n",
        "\n",
        "The population parameter is traditionally written as $\\sigma$ and the sample statistic as $s$. Rather unhelpfully, $s$ is also called the sample standard deviation (using $n-1$) whereas the standard deviation of the sample uses $n$. That's right, we have the sample standard deviation and the standard deviation of the sample and they're not the same thing!\n",
        "\n",
        "The sample standard deviation\n",
        "\\begin{equation}\n",
        "s = \\sqrt{\\frac{\\sum_i(x_i - \\bar{x})^2}{n-1}} \\approx \\sigma,\n",
        "\\end{equation}\n",
        "is our best (unbiased) estimate of the population parameter ($\\sigma$).\n",
        "\n",
        "If your dataset _is_ your entire population, you simply want to calculate the population parameter, $\\sigma$, via\n",
        "\\begin{equation}\n",
        "\\sigma = \\sqrt{\\frac{\\sum_i(x_i - \\bar{x})^2}{n}}\n",
        "\\end{equation}\n",
        "as you have complete, full knowledge of your population. In other words, your sample _is_ your population. It's worth noting that we're dealing with what Professor Spiegehalter describes on p. 92 of *AoS* as a **metaphorical population**: we have all the data, and we act as if the data-point is taken from a population at random. We can think of this population as an imaginary space of possibilities.\n",
        "\n",
        "If, however, you have sampled _from_ your population, you only have partial knowledge of the state of your population. In this case, the standard deviation of your sample is not an unbiased estimate of the standard deviation of the population, in which case you seek to estimate that population parameter via the sample standard deviation, which uses the $n-1$ denominator."
      ]
    },
    {
      "cell_type": "markdown",
      "metadata": {
        "id": "JHxU1qvGb_8Y"
      },
      "source": [
        "Great work so far! Now let's dive deeper."
      ]
    },
    {
      "cell_type": "markdown",
      "metadata": {
        "id": "eiwlCKTQb_8Y"
      },
      "source": [
        "## 3. Sampling distributions"
      ]
    },
    {
      "cell_type": "markdown",
      "metadata": {
        "id": "HHQTWM-xb_8Z"
      },
      "source": [
        "So far we've been dealing with the concept of taking a sample from a population to infer the population parameters. One statistic we calculated for a sample was the mean. As our samples will be expected to vary from one draw to another, so will our sample statistics. If we were to perform repeat draws of size $n$ and calculate the mean of each, we would expect to obtain a distribution of values. This is the sampling distribution of the mean. **The Central Limit Theorem (CLT)** tells us that such a distribution will approach a normal distribution as $n$ increases (the intuitions behind the CLT are covered in full on p. 236 of *AoS*). For the sampling distribution of the mean, the standard deviation of this distribution is given by\n",
        "\n",
        "\\begin{equation}\n",
        "\\sigma_{mean} = \\frac{\\sigma}{\\sqrt n}\n",
        "\\end{equation}\n",
        "\n",
        "where $\\sigma_{mean}$ is the standard deviation of the sampling distribution of the mean and $\\sigma$ is the standard deviation of the population (the population parameter)."
      ]
    },
    {
      "cell_type": "markdown",
      "metadata": {
        "id": "kCR956r8b_8Z"
      },
      "source": [
        "This is important because typically we are dealing with samples from populations and all we know about the population is what we see in the sample. From this sample, we want to make inferences about the population. We may do this, for example, by looking at the histogram of the values and by calculating the mean and standard deviation (as estimates of the population parameters), and so we are intrinsically interested in how these quantities vary across samples.\n",
        "\n",
        "In other words, now that we've taken one sample of size $n$ and made some claims about the general population, what if we were to take another sample of size $n$? Would we get the same result? Would we make the same claims about the general population? This brings us to a fundamental question: _when we make some inference about a population based on our sample, how confident can we be that we've got it 'right'?_\n",
        "\n",
        "We need to think about **estimates and confidence intervals**: those concepts covered in Chapter 7, p. 189, of *AoS*."
      ]
    },
    {
      "cell_type": "markdown",
      "metadata": {
        "id": "9l3COlNxb_8Z"
      },
      "source": [
        "Now, the standard normal distribution (with its variance equal to its standard deviation of one) would not be a great illustration of a key point. Instead, let's imagine we live in a town of 50,000 people and we know the height of everyone in this town. We will have 50,000 numbers that tell us everything about our population. We'll simulate these numbers now and put ourselves in one particular town, called 'town 47', where the population mean height is 172 cm and population standard deviation is 5 cm."
      ]
    },
    {
      "cell_type": "code",
      "execution_count": 11,
      "metadata": {
        "id": "5ZsMrDlvb_8e"
      },
      "outputs": [],
      "source": [
        "seed(47)\n",
        "pop_heights = norm.rvs(172, 5, size=50000)"
      ]
    },
    {
      "cell_type": "code",
      "execution_count": 12,
      "metadata": {
        "colab": {
          "base_uri": "https://localhost:8080/",
          "height": 472
        },
        "id": "KwLqmZ2Wb_8e",
        "outputId": "ade0caaf-b10e-486c-8b0b-cb538d51047a"
      },
      "outputs": [
        {
          "output_type": "display_data",
          "data": {
            "text/plain": [
              "<Figure size 640x480 with 1 Axes>"
            ],
            "image/png": "[encoded data removed]"
          },
          "metadata": {}
        }
      ],
      "source": [
        "_ = plt.hist(pop_heights, bins=30)\n",
        "_ = plt.xlabel('height (cm)')\n",
        "_ = plt.ylabel('number of people')\n",
        "_ = plt.title('Distribution of heights in entire town population')\n",
        "_ = plt.axvline(172, color='r')\n",
        "_ = plt.axvline(172+5, color='r', linestyle='--')\n",
        "_ = plt.axvline(172-5, color='r', linestyle='--')\n",
        "_ = plt.axvline(172+10, color='r', linestyle='-.')\n",
        "_ = plt.axvline(172-10, color='r', linestyle='-.')"
      ]
    },
    {
      "cell_type": "markdown",
      "metadata": {
        "id": "oOK0jHLIb_8e"
      },
      "source": [
        "Now, 50,000 people is rather a lot to chase after with a tape measure. If all you want to know is the average height of the townsfolk, then can you just go out and measure a sample to get a pretty good estimate of the average height?"
      ]
    },
    {
      "cell_type": "code",
      "execution_count": 13,
      "metadata": {
        "id": "u3JUfkQNb_8e"
      },
      "outputs": [],
      "source": [
        "def townsfolk_sampler(n):\n",
        "    return np.random.choice(pop_heights, n)"
      ]
    },
    {
      "cell_type": "markdown",
      "metadata": {
        "id": "sE-tbmYqb_8e"
      },
      "source": [
        "Let's say you go out one day and randomly sample 10 people to measure."
      ]
    },
    {
      "cell_type": "code",
      "execution_count": 14,
      "metadata": {
        "id": "ET_1clCjb_8f"
      },
      "outputs": [],
      "source": [
        "seed(47)\n",
        "daily_sample1 = townsfolk_sampler(10)"
      ]
    },
    {
      "cell_type": "code",
      "execution_count": 15,
      "metadata": {
        "colab": {
          "base_uri": "https://localhost:8080/",
          "height": 472
        },
        "id": "bHm7M9ipb_8f",
        "outputId": "1391ded8-ade6-4ef6-f0ca-9f3fd79c9b0b"
      },
      "outputs": [
        {
          "output_type": "display_data",
          "data": {
            "text/plain": [
              "<Figure size 640x480 with 1 Axes>"
            ],
            "image/png": "[encoded data removed]"
          },
          "metadata": {}
        }
      ],
      "source": [
        "_ = plt.hist(daily_sample1, bins=10)\n",
        "_ = plt.xlabel('height (cm)')\n",
        "_ = plt.ylabel('number of people')\n",
        "_ = plt.title('Distribution of heights in sample size 10')"
      ]
    },
    {
      "cell_type": "markdown",
      "metadata": {
        "id": "FQGA2115b_8f"
      },
      "source": [
        "The sample distribution doesn't resemble what we take the population distribution to be. What do we get for the mean?"
      ]
    },
    {
      "cell_type": "code",
      "execution_count": 16,
      "metadata": {
        "colab": {
          "base_uri": "https://localhost:8080/"
        },
        "id": "TJankfRJb_8f",
        "outputId": "56ad4ae8-a6f0-4c4b-d23f-18d3d799c8f0"
      },
      "outputs": [
        {
          "output_type": "execute_result",
          "data": {
            "text/plain": [
              "173.47911444163503"
            ]
          },
          "metadata": {},
          "execution_count": 16
        }
      ],
      "source": [
        "np.mean(daily_sample1)"
      ]
    },
    {
      "cell_type": "markdown",
      "metadata": {
        "id": "0yn8uAVCb_8f"
      },
      "source": [
        "And if we went out and repeated this experiment?"
      ]
    },
    {
      "cell_type": "code",
      "execution_count": 17,
      "metadata": {
        "id": "LJDBKXaSb_8f"
      },
      "outputs": [],
      "source": [
        "daily_sample2 = townsfolk_sampler(10)"
      ]
    },
    {
      "cell_type": "code",
      "execution_count": 18,
      "metadata": {
        "colab": {
          "base_uri": "https://localhost:8080/"
        },
        "id": "ir9PD9uob_8f",
        "outputId": "cbf62430-a9b5-4038-e310-8a0e39c454e0"
      },
      "outputs": [
        {
          "output_type": "execute_result",
          "data": {
            "text/plain": [
              "173.7317666636263"
            ]
          },
          "metadata": {},
          "execution_count": 18
        }
      ],
      "source": [
        "np.mean(daily_sample2)"
      ]
    },
    {
      "cell_type": "markdown",
      "metadata": {
        "id": "tX0FcrVWb_8f"
      },
      "source": [
        "__Q8:__ Simulate performing this random trial every day for a year, calculating the mean of each daily sample of 10, and plot the resultant sampling distribution of the mean."
      ]
    },
    {
      "cell_type": "markdown",
      "metadata": {
        "id": "ch-2RMVob_8f"
      },
      "source": [
        "__A:__"
      ]
    },
    {
      "cell_type": "code",
      "execution_count": 19,
      "metadata": {
        "id": "XsSBwRdib_8f"
      },
      "outputs": [],
      "source": [
        "daily_mean = []"
      ]
    },
    {
      "cell_type": "code",
      "execution_count": 20,
      "metadata": {
        "id": "kU25JNWLb_8f"
      },
      "outputs": [],
      "source": [
        "seed(47)\n",
        "# take your samples here\n",
        "for _ in range(365):\n",
        "    sample = townsfolk_sampler(10)\n",
        "    daily_mean.append(np.mean(sample))\n"
      ]
    },
    {
      "cell_type": "code",
      "execution_count": 22,
      "metadata": {
        "colab": {
          "base_uri": "https://localhost:8080/"
        },
        "id": "j3CtA0a-b_8f",
        "outputId": "0d5ecb66-bfe1-4e1f-b450-4901043ce3ec"
      },
      "outputs": [
        {
          "output_type": "execute_result",
          "data": {
            "text/plain": [
              "[173.47911444163503,\n",
              " 173.7317666636263,\n",
              " 172.54893867276104,\n",
              " 171.43257319553967,\n",
              " 172.7151613148319,\n",
              " 172.82799509412092,\n",
              " 172.72104620090087,\n",
              " 171.35684251559897,\n",
              " 172.06082915612325,\n",
              " 175.02116165843373]"
            ]
          },
          "metadata": {},
          "execution_count": 22
        }
      ],
      "source": [
        "daily_mean[:10]"
      ]
    },
    {
      "cell_type": "code",
      "source": [
        "_ = plt.hist(daily_mean, bins=10)\n",
        "_ = plt.xlabel('height (cm)')\n",
        "_ = plt.ylabel('number of people')\n",
        "_ = plt.title('Distribution of heights in sample size 10')"
      ],
      "metadata": {
        "colab": {
          "base_uri": "https://localhost:8080/",
          "height": 472
        },
        "id": "k1OXu54hRFIf",
        "outputId": "68a59361-b5be-463c-fbde-af94eab46064"
      },
      "execution_count": 23,
      "outputs": [
        {
          "output_type": "display_data",
          "data": {
            "text/plain": [
              "<Figure size 640x480 with 1 Axes>"
            ],
            "image/png": "[encoded data removed]"
          },
          "metadata": {}
        }
      ]
    },
    {
      "cell_type": "markdown",
      "metadata": {
        "id": "__985bfZb_8f"
      },
      "source": [
        "The above is the distribution of the means of samples of size 10 taken from our population. The Central Limit Theorem tells us the expected mean of this distribution will be equal to the population mean, and standard deviation will be $\\sigma / \\sqrt n$, which, in this case, should be approximately 1.58."
      ]
    },
    {
      "cell_type": "markdown",
      "metadata": {
        "id": "zTjfWCoMb_8f"
      },
      "source": [
        "__Q9:__ Verify the above results from the CLT."
      ]
    },
    {
      "cell_type": "markdown",
      "metadata": {
        "id": "6LkbS0tMb_8g"
      },
      "source": [
        "__A:__"
      ]
    },
    {
      "cell_type": "code",
      "execution_count": 24,
      "metadata": {
        "colab": {
          "base_uri": "https://localhost:8080/"
        },
        "id": "3MV0Tv1gb_8g",
        "outputId": "e03f0ea9-3824-4fee-ffc7-7d91afe90256"
      },
      "outputs": [
        {
          "output_type": "execute_result",
          "data": {
            "text/plain": [
              "171.8660049358649"
            ]
          },
          "metadata": {},
          "execution_count": 24
        }
      ],
      "source": [
        "np.mean(daily_mean)"
      ]
    },
    {
      "cell_type": "code",
      "execution_count": 25,
      "metadata": {
        "colab": {
          "base_uri": "https://localhost:8080/"
        },
        "id": "Qa0wpO1Yb_8g",
        "outputId": "047e9e26-7fbb-44d7-aa72-9c14ad0e2c3d"
      },
      "outputs": [
        {
          "output_type": "execute_result",
          "data": {
            "text/plain": [
              "1.5756704135286475"
            ]
          },
          "metadata": {},
          "execution_count": 25
        }
      ],
      "source": [
        "np.std(daily_mean)"
      ]
    },
    {
      "cell_type": "markdown",
      "metadata": {
        "id": "g1hI4YPjb_8g"
      },
      "source": [
        "Remember, in this instance, we knew our population parameters, that the average height really is 172 cm and the standard deviation is 5 cm, and we see some of our daily estimates of the population mean were as low as around 168 and some as high as 176."
      ]
    },
    {
      "cell_type": "markdown",
      "metadata": {
        "id": "vxGMioAUb_8g"
      },
      "source": [
        "__Q10:__ Repeat the above year's worth of samples but for a sample size of 50 (perhaps you had a bigger budget for conducting surveys that year)! Would you expect your distribution of sample means to be wider (more variable) or narrower (more consistent)? Compare your resultant summary statistics to those predicted by the CLT."
      ]
    },
    {
      "cell_type": "markdown",
      "metadata": {
        "id": "XzIw_RJQb_8g"
      },
      "source": [
        "__A:__"
      ]
    },
    {
      "cell_type": "code",
      "execution_count": 26,
      "metadata": {
        "id": "bfzDRZtvb_8g"
      },
      "outputs": [],
      "source": [
        "seed(47)\n",
        "# calculate daily means from the larger sample size here\n",
        "\n",
        "sample_size_50_mean = []\n",
        "seed(47)\n",
        "# calculate daily means from the larger sample size here\n",
        "for _ in range(365):\n",
        "    sample50 = townsfolk_sampler(50)\n",
        "    sample_size_50_mean.append(np.mean(sample50))\n"
      ]
    },
    {
      "cell_type": "code",
      "execution_count": 27,
      "metadata": {
        "colab": {
          "base_uri": "https://localhost:8080/",
          "height": 472
        },
        "id": "TbH_u7RPb_8g",
        "outputId": "4c989d24-a794-4ce4-8a4d-c7be633108e9"
      },
      "outputs": [
        {
          "output_type": "display_data",
          "data": {
            "text/plain": [
              "<Figure size 640x480 with 1 Axes>"
            ],
            "image/png": "[encoded data removed]"
          },
          "metadata": {}
        }
      ],
      "source": [
        "_ = plt.hist(sample_size_50_mean, bins=10)\n",
        "_ = plt.xlabel('height (cm)')\n",
        "_ = plt.ylabel('number of people')\n",
        "_ = plt.title('Distribution of heights in sample size 50')"
      ]
    },
    {
      "cell_type": "markdown",
      "metadata": {
        "id": "hUeKZJt7b_8g"
      },
      "source": [
        "What we've seen so far, then, is that we can estimate population parameters from a sample from the population, and that samples have their own distributions. Furthermore, the larger the sample size, the narrower are those sampling distributions."
      ]
    },
    {
      "cell_type": "markdown",
      "metadata": {
        "id": "f2eXQ0Enb_8g"
      },
      "source": [
        "### Normally testing time!"
      ]
    },
    {
      "cell_type": "markdown",
      "metadata": {
        "id": "tyfMpumKb_8g"
      },
      "source": [
        "All of the above is well and good. We've been sampling from a population we know is normally distributed, we've come to understand when to use $n$ and when to use $n-1$ in the denominator to calculate the spread of a distribution, and we've  seen the Central Limit Theorem in action for a sampling distribution. All seems very well behaved in Frequentist land. But, well, why should we really care?"
      ]
    },
    {
      "cell_type": "markdown",
      "metadata": {
        "id": "WElSk7qPb_8g"
      },
      "source": [
        "Remember, we rarely (if ever) actually know our population parameters but we still have to estimate them somehow. If we want to make inferences to conclusions like \"this observation is unusual\" or \"my population mean has changed\" then we need to have some idea of what the underlying distribution is so we can calculate relevant probabilities. In frequentist inference, we use the formulae above to deduce these population parameters. Take a moment in the next part of this assignment to refresh your understanding of how these probabilities work."
      ]
    },
    {
      "cell_type": "markdown",
      "metadata": {
        "id": "eVloloZHb_8g"
      },
      "source": [
        "Recall some basic properties of the standard normal distribution, such as that about 68% of observations are within plus or minus 1 standard deviation of the mean. Check out the precise definition of a normal distribution on p. 394 of *AoS*.\n",
        "\n",
        "__Q11:__ Using this fact, calculate the probability of observing the value 1 or less in a single observation from the standard normal distribution. Hint: you may find it helpful to sketch the standard normal distribution (the familiar bell shape) and mark the number of standard deviations from the mean on the x-axis and shade the regions of the curve that contain certain percentages of the population."
      ]
    },
    {
      "cell_type": "markdown",
      "metadata": {
        "id": "9LUxdZ7Tb_8g"
      },
      "source": [
        "__A:__ 0.84"
      ]
    },
    {
      "cell_type": "markdown",
      "metadata": {
        "id": "v6hqkQHPb_8g"
      },
      "source": [
        "Calculating this probability involved calculating the area under the curve from the value of 1 and below. To put it in mathematical terms, we need to *integrate* the probability density function. We could just add together the known areas of chunks (from -Inf to 0 and then 0 to $+\\sigma$ in the example above). One way to do this is to look up tables (literally). Fortunately, scipy has this functionality built in with the cdf() function."
      ]
    },
    {
      "cell_type": "markdown",
      "metadata": {
        "id": "SUHdyOc-b_8g"
      },
      "source": [
        "__Q12:__ Use the cdf() function to answer the question above again and verify you get the same answer."
      ]
    },
    {
      "cell_type": "markdown",
      "metadata": {
        "id": "OarrdPltb_8g"
      },
      "source": [
        "__A:__"
      ]
    },
    {
      "cell_type": "code",
      "execution_count": 28,
      "metadata": {
        "colab": {
          "base_uri": "https://localhost:8080/"
        },
        "id": "cz0C5ojkb_8g",
        "outputId": "4edb8e16-4a41-42e8-831b-d1b08f79822a"
      },
      "outputs": [
        {
          "output_type": "execute_result",
          "data": {
            "text/plain": [
              "0.8413447460685429"
            ]
          },
          "metadata": {},
          "execution_count": 28
        }
      ],
      "source": [
        "norm.cdf(1)"
      ]
    },
    {
      "cell_type": "markdown",
      "metadata": {
        "id": "HnQi1385b_8h"
      },
      "source": [
        "__Q13:__ Using our knowledge of the population parameters for our townsfolks' heights, what is the probability of selecting one person at random and their height being 177 cm or less? Calculate this using both of the approaches given above."
      ]
    },
    {
      "cell_type": "markdown",
      "metadata": {
        "id": "v8aPFqJ9b_8h"
      },
      "source": [
        "__A:__"
      ]
    },
    {
      "cell_type": "code",
      "execution_count": 29,
      "metadata": {
        "colab": {
          "base_uri": "https://localhost:8080/"
        },
        "id": "muYfDlu_b_8h",
        "outputId": "309c6a12-a23e-4cfc-93fe-fbbaf0c4e3d0"
      },
      "outputs": [
        {
          "output_type": "execute_result",
          "data": {
            "text/plain": [
              "0.8413447460685429"
            ]
          },
          "metadata": {},
          "execution_count": 29
        }
      ],
      "source": [
        "norm.cdf(177, loc=172, scale=5)"
      ]
    },
    {
      "cell_type": "markdown",
      "metadata": {
        "id": "Ln3aJUe3b_8h"
      },
      "source": [
        "__Q14:__ Turning this question around — suppose we randomly pick one person and measure their height and find they are 2.00 m tall. How surprised should we be at this result, given what we know about the population distribution? In other words, how likely would it be to obtain a value at least as extreme as this? Express this as a probability."
      ]
    },
    {
      "cell_type": "markdown",
      "metadata": {
        "id": "PvKnSV4ob_8h"
      },
      "source": [
        "__A:__"
      ]
    },
    {
      "cell_type": "code",
      "execution_count": 30,
      "metadata": {
        "colab": {
          "base_uri": "https://localhost:8080/"
        },
        "id": "KE-5Do8Yb_8h",
        "outputId": "5ea5ccc5-5088-44be-d789-2c9d6debeb95"
      },
      "outputs": [
        {
          "output_type": "execute_result",
          "data": {
            "text/plain": [
              "1.2365241000331715e-08"
            ]
          },
          "metadata": {},
          "execution_count": 30
        }
      ],
      "source": [
        "norm.pdf(200, loc=172, scale=5)"
      ]
    },
    {
      "cell_type": "markdown",
      "metadata": {
        "id": "ooXcF6zIb_8h"
      },
      "source": [
        "What we've just done is calculate the ***p-value*** of the observation of someone 2.00m tall (review *p*-values if you need to on p. 399 of *AoS*). We could calculate this probability by virtue of knowing the population parameters. We were then able to use the known properties of the relevant normal distribution to calculate the probability of observing a value at least as extreme as our test value."
      ]
    },
    {
      "cell_type": "markdown",
      "metadata": {
        "id": "wNyBEfBDb_8h"
      },
      "source": [
        "We're about to come to a pinch, though. We've said a couple of times that we rarely, if ever, know the true population parameters; we have to estimate them from our sample and we cannot even begin to estimate the standard deviation from a single observation.\n",
        "\n",
        "This is very true and usually we have sample sizes larger than one. This means we can calculate the mean of the sample as our best estimate of the population mean and the standard deviation as our best estimate of the population standard deviation.\n",
        "\n",
        "In other words, we are now coming to deal with the sampling distributions we mentioned above as we are generally concerned with the properties of the sample means we obtain.\n",
        "\n",
        "Above, we highlighted one result from the CLT, whereby the sampling distribution (of the mean) becomes narrower and narrower with the square root of the sample size. We remind ourselves that another result from the CLT is that _even if the underlying population distribution is not normal, the sampling distribution will tend to become normal with sufficiently large sample size_. (**Check out p. 199 of AoS if you need to revise this**). This is the key driver for us 'requiring' a certain sample size, for example you may frequently see a minimum sample size of 30 stated in many places. In reality this is simply a rule of thumb; if the underlying distribution is approximately normal then your sampling distribution will already be pretty normal, but if the underlying distribution is heavily skewed then you'd want to increase your sample size."
      ]
    },
    {
      "cell_type": "markdown",
      "metadata": {
        "id": "z9owK5fYb_8h"
      },
      "source": [
        "__Q15:__ Let's now start from the position of knowing nothing about the heights of people in our town.\n",
        "* Use the random seed of 47, to randomly sample the heights of 50 townsfolk\n",
        "* Estimate the population mean using np.mean\n",
        "* Estimate the population standard deviation using np.std (remember which denominator to use!)\n",
        "* Calculate the (95%) [margin of error](https://www.statisticshowto.datasciencecentral.com/probability-and-statistics/hypothesis-testing/margin-of-error/#WhatMofE) (use the exact critial z value to 2 decimal places - [look this up](https://www.statisticshowto.datasciencecentral.com/probability-and-statistics/find-critical-values/) or use norm.ppf()) Recall that the ***margin of error*** is mentioned on p. 189 of the *AoS* and discussed in depth in that chapter).\n",
        "* Calculate the 95% Confidence Interval of the mean (***confidence intervals*** are defined on p. 385 of *AoS*)\n",
        "* Does this interval include the true population mean?"
      ]
    },
    {
      "cell_type": "markdown",
      "metadata": {
        "id": "xp1ow-v7b_8h"
      },
      "source": [
        "__A:__"
      ]
    },
    {
      "cell_type": "code",
      "execution_count": 31,
      "metadata": {
        "id": "Ujeqh43Tb_8h"
      },
      "outputs": [],
      "source": [
        "seed(47)\n",
        "# take your sample now\n",
        "sample_50_height = townsfolk_sampler(50)"
      ]
    },
    {
      "cell_type": "code",
      "execution_count": 32,
      "metadata": {
        "colab": {
          "base_uri": "https://localhost:8080/"
        },
        "id": "dyG-ccqvb_8h",
        "outputId": "fddd9462-0285-4cab-a889-d6d4d1310bbb"
      },
      "outputs": [
        {
          "output_type": "stream",
          "name": "stdout",
          "text": [
            "172.7815108576788\n"
          ]
        }
      ],
      "source": [
        "sample_mean_height = np.mean(sample_50_height)\n",
        "print(sample_mean_height)"
      ]
    },
    {
      "cell_type": "code",
      "execution_count": 33,
      "metadata": {
        "colab": {
          "base_uri": "https://localhost:8080/"
        },
        "id": "KaLn72fub_8h",
        "outputId": "6c313032-8777-4fff-df8d-edfc7d3160e4"
      },
      "outputs": [
        {
          "output_type": "stream",
          "name": "stdout",
          "text": [
            "4.195424364433547\n"
          ]
        }
      ],
      "source": [
        "sample_std_height = np.std(sample_50_height, ddof=1)\n",
        "print(sample_std_height)"
      ]
    },
    {
      "cell_type": "code",
      "execution_count": 34,
      "metadata": {
        "colab": {
          "base_uri": "https://localhost:8080/"
        },
        "id": "M56XrLdpb_8h",
        "outputId": "9865f1cf-b721-4765-ab8a-00732034d4f6"
      },
      "outputs": [
        {
          "output_type": "stream",
          "name": "stdout",
          "text": [
            "1.1628909342876539\n"
          ]
        }
      ],
      "source": [
        "z_critical = norm.ppf(0.975)\n",
        "sample_margin_of_error = z_critical * (sample_std_height/np.sqrt(50))\n",
        "print(sample_margin_of_error )"
      ]
    },
    {
      "cell_type": "code",
      "execution_count": 35,
      "metadata": {
        "colab": {
          "base_uri": "https://localhost:8080/"
        },
        "id": "2STZTYUjb_8i",
        "outputId": "84f936e3-826c-49d8-dc34-4154f4ec67b7"
      },
      "outputs": [
        {
          "output_type": "stream",
          "name": "stdout",
          "text": [
            "(171.61861992339115, 173.94440179196644)\n"
          ]
        }
      ],
      "source": [
        "sample_confidence_interval = (sample_mean_height - sample_margin_of_error,\n",
        "                             sample_mean_height + sample_margin_of_error)\n",
        "print(sample_confidence_interval)"
      ]
    },
    {
      "cell_type": "markdown",
      "metadata": {
        "id": "0T9lkLhIb_8i"
      },
      "source": [
        "__Q16:__ Above, we calculated the confidence interval using the critical z value. What is the problem with this? What requirement, or requirements, are we (strictly) failing?"
      ]
    },
    {
      "cell_type": "markdown",
      "metadata": {
        "id": "ynpnyhADb_8i"
      },
      "source": [
        "__A:__"
      ]
    },
    {
      "cell_type": "markdown",
      "metadata": {
        "id": "WuYx9eYAb_8i"
      },
      "source": [
        "__Q17:__ Calculate the 95% confidence interval for the mean using the _t_ distribution. Is this wider or narrower than that based on the normal distribution above? If you're unsure, you may find this [resource](https://www.statisticshowto.datasciencecentral.com/probability-and-statistics/confidence-interval/) useful. For calculating the critical value, remember how you could calculate this for the normal distribution using norm.ppf()."
      ]
    },
    {
      "cell_type": "markdown",
      "metadata": {
        "id": "q1ZQRnzVb_8i"
      },
      "source": [
        "__A:__"
      ]
    },
    {
      "cell_type": "code",
      "execution_count": 36,
      "metadata": {
        "id": "oslf7xAmb_8i"
      },
      "outputs": [],
      "source": [
        "t_critical = t.ppf(0.975, 49)"
      ]
    },
    {
      "cell_type": "code",
      "execution_count": 37,
      "metadata": {
        "id": "I7o6kedxb_8i"
      },
      "outputs": [],
      "source": [
        "sample_t_margin_of_error = t_critical * (sample_std_height/np.sqrt(50))"
      ]
    },
    {
      "cell_type": "code",
      "execution_count": 38,
      "metadata": {
        "colab": {
          "base_uri": "https://localhost:8080/"
        },
        "id": "Tyj8tv0Tb_8i",
        "outputId": "3ce694d4-d324-4f2e-ad84-ea53548d13b9"
      },
      "outputs": [
        {
          "output_type": "stream",
          "name": "stdout",
          "text": [
            "(171.58918444583662, 173.97383726952097)\n"
          ]
        }
      ],
      "source": [
        "sample_t_confidence_interval = (sample_mean_height - sample_t_margin_of_error,\n",
        "                             sample_mean_height + sample_t_margin_of_error)\n",
        "print(sample_t_confidence_interval)"
      ]
    },
    {
      "cell_type": "markdown",
      "metadata": {
        "id": "LqUML4Dgb_8i"
      },
      "source": [
        "This is slightly wider than the previous confidence interval. This reflects the greater uncertainty given that we are estimating population parameters from a sample."
      ]
    },
    {
      "cell_type": "markdown",
      "metadata": {
        "id": "iWmmoM6Cb_8i"
      },
      "source": [
        "## 4. Learning outcomes"
      ]
    },
    {
      "cell_type": "markdown",
      "metadata": {
        "id": "ARsF64atb_8i"
      },
      "source": [
        "Having completed this project notebook, you now have hands-on experience:\n",
        "* sampling and calculating probabilities from a normal distribution\n",
        "* identifying the correct way to estimate the standard deviation of a population (the population parameter) from a sample\n",
        "* with sampling distribution and now know how the Central Limit Theorem applies\n",
        "* with how to calculate critical values and confidence intervals"
      ]
    },
    {
      "cell_type": "code",
      "execution_count": null,
      "metadata": {
        "id": "ZFNZSJIjb_8i"
      },
      "outputs": [],
      "source": []
    }
  ],
  "metadata": {
    "kernelspec": {
      "display_name": "Python 3",
      "language": "python",
      "name": "python3"
    },
    "language_info": {
      "codemirror_mode": {
        "name": "ipython",
        "version": 3
      },
      "file_extension": ".py",
      "mimetype": "text/x-python",
      "name": "python",
      "nbconvert_exporter": "python",
      "pygments_lexer": "ipython3",
      "version": "3.7.3"
    },
    "colab": {
      "provenance": []
    }
  },
  "nbformat": 4,
  "nbformat_minor": 0
}